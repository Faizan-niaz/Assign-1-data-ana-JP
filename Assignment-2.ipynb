{
 "cells": [
  {
   "cell_type": "markdown",
   "id": "c504936b-7cfe-4427-b46b-5635ce3410f4",
   "metadata": {},
   "source": [
    "Question 1: Age Group Classification\n",
    "Write a Python program that takes the age of a person as input and classifies them into one of the\n",
    "following age groups:\n",
    "&quot;Child&quot; if the age is between 0 and 12 (inclusive).\n",
    "&quot;Teenager&quot; if the age is between 13 and 19 (inclusive).\n",
    "&quot;Adult&quot; if the age is between 20 and 64 (inclusive).\n",
    "&quot;Senior&quot; if the age is 65 or older."
   ]
  },
  {
   "cell_type": "code",
   "execution_count": 8,
   "id": "1a5505d2-4b61-42c1-a487-43d1bb0fb60f",
   "metadata": {},
   "outputs": [
    {
     "name": "stdin",
     "output_type": "stream",
     "text": [
      "enter your age:  67\n"
     ]
    },
    {
     "name": "stdout",
     "output_type": "stream",
     "text": [
      "older\n"
     ]
    }
   ],
   "source": [
    "age = int(input(\"enter your age: \"));\n",
    "if age > 0 and age <= 12:\n",
    "    print(\"child\")\n",
    "elif age > 13 and age <= 19:\n",
    "    print(\"Teenager\")\n",
    "elif age > 20 and age <= 64:\n",
    "    print(\"adult\")\n",
    "else: \n",
    "    print(\"senior\")"
   ]
  },
  {
   "cell_type": "markdown",
   "id": "6895c1ed-b433-4f37-8893-35ff3d5d514b",
   "metadata": {},
   "source": [
    "--------------------------------------------------\n",
    "Question 2: Checking for Eligibility for Discount\n",
    "Write a Python program that determines if a customer is eligible for a discount. The program should\n",
    "take the customer&#39;s membership status and purchase amount as input and check the following\n",
    "conditions:\n",
    "The customer is a &quot;premium&quot; member and the purchase amount is greater than or equal to 1000.\n",
    "The customer is a &quot;regular&quot; member and the purchase amount is greater than or equal to 2000.\n",
    "If the customer meets either of the above conditions, print &quot;Eligible for discount&quot;, otherwise print\n",
    "&quot;Not eligible for discount&quot;."
   ]
  },
  {
   "cell_type": "code",
   "execution_count": 12,
   "id": "765ac7a1-bb12-4357-b631-da177f60134f",
   "metadata": {},
   "outputs": [
    {
     "name": "stdin",
     "output_type": "stream",
     "text": [
      "Enter your membership:  premium\n",
      "enter your purchase 1000\n"
     ]
    },
    {
     "name": "stdout",
     "output_type": "stream",
     "text": [
      "Eligible for discount\n"
     ]
    }
   ],
   "source": [
    "member_status = input(\"Enter your membership: \");\n",
    "purchase_amount = int(input(\"enter your purchase\"))\n",
    "\n",
    "if (member_status == \"premium\" and purchase_amount >= 1000) or (member_status == \"regular\" and purchase_amount >= 2000):\n",
    "    print(\"Eligible for discount\")\n",
    "else: \n",
    "    print(\"Not eligible for discount\")"
   ]
  },
  {
   "cell_type": "markdown",
   "id": "161987a6-1e60-4cdf-a9af-23c94251e71f",
   "metadata": {},
   "source": [
    "--------------------------------------------------------------------------------------------\n",
    "Question 3: Voting Eligibility Check\n",
    "Write a Python program that checks if a person is eligible to vote based on their age and citizenship\n",
    "status. The program should take the following inputs:\n",
    "Age (an integer).\n",
    "Citizenship status (a string: either &quot;citizen&quot; or &quot;non-citizen&quot;).\n",
    "\n",
    "The eligibility conditions are:\n",
    "The person must be at least 18 years old and a &quot;citizen&quot; to be eligible to vote.\n",
    "Alternatively, the person can be at least 16 years old and a &quot;citizen&quot; of a special region where voting is\n",
    "allowed from age 16.\n",
    "\n",
    "If the person meets either of the conditions, print &quot;Eligible to vote&quot;, otherwise print &quot;Not eligible to\n",
    "vote&quot;."
   ]
  },
  {
   "cell_type": "code",
   "execution_count": 24,
   "id": "6234be3b-984a-4a61-8979-98729d8e1881",
   "metadata": {},
   "outputs": [
    {
     "name": "stdin",
     "output_type": "stream",
     "text": [
      "enter your age:  15\n",
      "enter your citizenship:  citizen\n"
     ]
    },
    {
     "name": "stdout",
     "output_type": "stream",
     "text": [
      "Eligible to vote\n"
     ]
    }
   ],
   "source": [
    "age = int(input(\"enter your age: \"))\n",
    "citizenship_status = input(\"enter your citizenship: \")\n",
    "if (age <= 16 and citizenship_status == \"citizen\") or (age >= 18 and citizenship_status == \"citizen\"):\n",
    "    print(\"Eligible to vote\")\n",
    "else:\n",
    "    print(\"Not eligible to vote\")"
   ]
  },
  {
   "cell_type": "markdown",
   "id": "b7ec5002-ca01-46d3-b925-67676edf20b5",
   "metadata": {},
   "source": [
    "---------------------------------------------------------------------\n",
    "Question 4: Employee Salary Bonus Eligibility\n",
    "\n",
    "Write a Python program that determines if an employee is eligible for a salary bonus based on the following conditions:\n",
    "\n",
    "The employee's performance rating is \"Excellent\" and their years of service are greater than or equal to 5 years.\n",
    "\n",
    "The employee's performance rating is \"Good\" and their years of service are greater than or equal to 10 years.\n",
    "\n",
    "The employee's performance rating is \"Satisfactory\" or their years of service are greater than or equal to 15 years.\n",
    "\n",
    "The employee is not eligible for a bonus if neither of these conditions is met.\n",
    "\n",
    "The program should print one of the following:\n",
    "\n",
    "\"Eligible for bonus\" if the employee meets any of the criteria.\n",
    "\n",
    "\"Not eligible for bonus\" if none of the conditions apply.\n"
   ]
  },
  {
   "cell_type": "code",
   "execution_count": 28,
   "id": "c54b8719-5fba-4f53-a41d-f6ec6cccd3a2",
   "metadata": {},
   "outputs": [
    {
     "name": "stdin",
     "output_type": "stream",
     "text": [
      "Enter the performance rating (Excellent, Good, Satisfactory):  good\n",
      "Enter the years of service:  9\n"
     ]
    },
    {
     "name": "stdout",
     "output_type": "stream",
     "text": [
      "Not eligible for bonus\n"
     ]
    }
   ],
   "source": [
    "performance_rating = input(\"Enter the performance rating (Excellent, Good, Satisfactory): \").strip().capitalize()\n",
    "years_of_service = int(input(\"Enter the years of service: \"))\n",
    "\n",
    "if (performance_rating == \"Excellent\" and years_of_service >= 5) or \\\n",
    "    (performance_rating == \"Good\" and years_of_service >= 10) or \\\n",
    "    (performance_rating == \"Satisfactory\" or years_of_service >= 15):\n",
    "    print(\"Eligible for bonus\")\n",
    "else:\n",
    "    print(\"Not eligible for bonus\")"
   ]
  },
  {
   "cell_type": "markdown",
   "id": "d2773533-a978-44f6-8925-273e8e9cc72e",
   "metadata": {},
   "source": [
    "-------------------------------------------\n",
    "Question 5. Write a program that replaces spaces with underscores, counts how many underscores are there, and finds the position of the first underscore.\n",
    "Use text: \"I'm learning Python programming\"?\n"
   ]
  },
  {
   "cell_type": "code",
   "execution_count": 36,
   "id": "3bae9161-c180-4552-93e9-d5636df0f9d2",
   "metadata": {},
   "outputs": [
    {
     "name": "stdout",
     "output_type": "stream",
     "text": [
      "Modified text:  I'm_learning_Python_programming\n",
      "Number of underscores:  3\n",
      "Position of the first underscore:  3\n"
     ]
    }
   ],
   "source": [
    "text = \"I'm learning Python programming\"\n",
    "modified_text = text.replace(\" \", \"_\")\n",
    "underscore_count = modified_text.count(\"_\")\n",
    "first_underscore_position = modified_text.find(\"_\")  \n",
    "\n",
    "    \n",
    "print(\"Modified text: \", modified_text)\n",
    "    \n",
    "print(\"Number of underscores: \", underscore_count)\n",
    "if first_underscore_position != -1:\n",
    "    print(\"Position of the first underscore: \", first_underscore_position)\n",
    "else:\n",
    "    print(\"No underscores found.\")"
   ]
  },
  {
   "cell_type": "markdown",
   "id": "67f49c7c-0cc6-4b28-873b-746e49373a7a",
   "metadata": {},
   "source": [
    "----------------------------------------------\n",
    "Question 6: \n",
    "\n",
    "Write a Python program that:\n",
    "\n",
    "•\tTakes a string as input.\n",
    "\n",
    "•\tPrints all characters of the string except the last 3 using slicing.\n",
    "\n",
    "•\tPrints every second character of the string using slicing.\n",
    "\n",
    "•\tPrints the string in reverse using slicing\n"
   ]
  },
  {
   "cell_type": "code",
   "execution_count": 40,
   "id": "f8939c57-1f23-4fb1-a026-fe8fd4382586",
   "metadata": {},
   "outputs": [
    {
     "name": "stdin",
     "output_type": "stream",
     "text": [
      "Enter a string:  my name is faizan niaz\n"
     ]
    },
    {
     "name": "stdout",
     "output_type": "stream",
     "text": [
      "String except the last 3 characters:  my name is faizan n\n",
      "Every second character of the string:  m aei aznna\n",
      "String in reverse:  zain naziaf si eman ym\n"
     ]
    }
   ],
   "source": [
    "user_input = input(\"Enter a string: \")\n",
    "except_last_three = user_input[:-3]\n",
    "print(\"String except the last 3 characters: \", except_last_three)\n",
    "\n",
    "every_second_character = user_input[::2]\n",
    "print(\"Every second character of the string: \", every_second_character)\n",
    "\n",
    "reversed_string = user_input[::-1]\n",
    "print(\"String in reverse: \", reversed_string)"
   ]
  },
  {
   "cell_type": "markdown",
   "id": "0b70feed-85e0-4232-af4d-fdf0d49efcb5",
   "metadata": {},
   "source": [
    "---------------------------------------------------------\n",
    "Question 7. Given a sentence, you need to reverse the order of the words in the sentence while preserving their original capitalization and spaces.\n",
    "Use text : \"Hello World, We are learning Python\"\n"
   ]
  },
  {
   "cell_type": "code",
   "execution_count": 41,
   "id": "2f48fcee-299e-4d92-bc5c-99d2b8003f46",
   "metadata": {},
   "outputs": [
    {
     "name": "stdout",
     "output_type": "stream",
     "text": [
      "Original sentence:  Hello World, We are learning Python\n",
      "Reversed sentence:  Python learning are We World, Hello\n"
     ]
    }
   ],
   "source": [
    "text = \"Hello World, We are learning Python\"\n",
    "words = text.split()\n",
    "reversed_words = words[::-1]\n",
    "\n",
    "reversed_sentence = \" \".join(reversed_words)\n",
    "\n",
    "print(\"Original sentence: \", text)\n",
    "print(\"Reversed sentence: \", reversed_sentence)"
   ]
  },
  {
   "cell_type": "markdown",
   "id": "a3c19252-19b5-4d51-a582-e2726ef34c5c",
   "metadata": {},
   "source": [
    "------------------------------------------------------------------------\n",
    "Question 8. You have a product code that follows the format \"SKU-12345-XYZ\". You need to:\n",
    "Remove the \"SKU-\" and the \"-XYZ\" from the product code. Extract and return the number\n"
   ]
  },
  {
   "cell_type": "code",
   "execution_count": 43,
   "id": "e2765542-fe82-4bdb-ae16-5632e3e1cf34",
   "metadata": {},
   "outputs": [
    {
     "name": "stdout",
     "output_type": "stream",
     "text": [
      "Extracted number:  12345\n"
     ]
    }
   ],
   "source": [
    "product_code = \"SKU-12345-XYZ\"\n",
    "\n",
    "if product_code.startswith(\"SKU-\") and product_code.endswith(\"-XYZ\"):\n",
    "    number = product_code[4:-4]\n",
    "    print(\"Extracted number: \", number)\n",
    "else:\n",
    "    print(\"Invalid product code format\")"
   ]
  },
  {
   "cell_type": "markdown",
   "id": "ebca233a-611a-41b2-97f5-c29fdaedcf98",
   "metadata": {},
   "source": [
    "------------------------------------------------------------\n",
    "Question 9. Write a Python program to check user password has following:\n",
    "Whether the string contains any uppercase characters. Whether the string contains any lowercase characters. Whether the string contains any spaces. Whether the string contains any special characters (anything other than letters, digits, and spaces).\n"
   ]
  },
  {
   "cell_type": "code",
   "execution_count": 50,
   "id": "0a95fd10-414a-4f10-8b97-a921e37d8a4f",
   "metadata": {},
   "outputs": [
    {
     "name": "stdout",
     "output_type": "stream",
     "text": [
      "Contains uppercase characters:  False\n",
      "Contains lowercase characters:  False\n",
      "Contains spaces:  False\n",
      "Contains special characters:  False\n"
     ]
    },
    {
     "name": "stdin",
     "output_type": "stream",
     "text": [
      "Enter your password:  P@aj7\n"
     ]
    }
   ],
   "source": [
    "has_uppercase = False\n",
    "has_lowercase = False\n",
    "has_space = False\n",
    "has_special = False\n",
    "\n",
    "special_characters = (\"!\", \"@\", \"#\", \"$\", \"%\", \"^\", \"&\", \"*\", \"(\",\")\", \"-\", \"_\", \"=\", \"+\")\n",
    "        \n",
    "\n",
    "print(\"Contains uppercase characters: \", has_uppercase)\n",
    "print(\"Contains lowercase characters: \", has_lowercase)\n",
    "print(\"Contains spaces: \", has_space)\n",
    "print(\"Contains special characters: \",has_special)\n",
    "\n",
    "# Example usage\n",
    "user_password = input(\"Enter your password: \")"
   ]
  },
  {
   "cell_type": "markdown",
   "id": "ee415944-eaea-4ee0-b470-23956f3253a6",
   "metadata": {},
   "source": [
    "-------------------------------------------------------\n",
    "Question 10: Find the Longest Word\n",
    "\n",
    "Write a Python program that finds the longest word in a given string.\n",
    "\n",
    "Example:\n",
    "\n",
    "Input: \"I love programming in Python\"\n",
    "Output: \"programming\"\n"
   ]
  },
  {
   "cell_type": "code",
   "execution_count": null,
   "id": "11938619-a448-41c8-bc0c-a632e8eb929e",
   "metadata": {},
   "outputs": [],
   "source": [
    "words_sentence = input(\"enter your sentence: \")\n",
    "words = sentence.split()\n",
    "    \n",
    "longest_word = \"\"\n",
    "max_length = 0\n",
    "if len(word) > max_length:\n",
    "    longest_word = word\n",
    "    max_length = len(word)\n",
    "    input_sentence = \"I love programming in Python\";\n",
    "    \n",
    "print(\"The longest word is: \", longest_word)"
   ]
  },
  {
   "cell_type": "code",
   "execution_count": null,
   "id": "a0ab403d-f526-4509-bb69-814b1cc81101",
   "metadata": {},
   "outputs": [],
   "source": []
  }
 ],
 "metadata": {
  "kernelspec": {
   "display_name": "Python 3 (ipykernel)",
   "language": "python",
   "name": "python3"
  },
  "language_info": {
   "codemirror_mode": {
    "name": "ipython",
    "version": 3
   },
   "file_extension": ".py",
   "mimetype": "text/x-python",
   "name": "python",
   "nbconvert_exporter": "python",
   "pygments_lexer": "ipython3",
   "version": "3.12.7"
  }
 },
 "nbformat": 4,
 "nbformat_minor": 5
}
