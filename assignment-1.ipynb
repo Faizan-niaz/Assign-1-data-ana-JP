{
 "cells": [
  {
   "cell_type": "code",
   "execution_count": 1,
   "id": "955d577c-4a55-486c-8739-5862d94d1fac",
   "metadata": {},
   "outputs": [
    {
     "name": "stdout",
     "output_type": "stream",
     "text": [
      "hello world\n"
     ]
    }
   ],
   "source": [
    "print(\"hello world\")"
   ]
  },
  {
   "cell_type": "code",
   "execution_count": 2,
   "id": "78519e1f-6081-4604-a812-ac8fdd3c5c4c",
   "metadata": {},
   "outputs": [
    {
     "name": "stdout",
     "output_type": "stream",
     "text": [
      "['20k', '40k', '50k', '60k', '35k', '89k', '40k']\n"
     ]
    }
   ],
   "source": [
    "salaries = ['20k','40k','50k','60k','35k','89k','40k']\n",
    "print(salaries)"
   ]
  },
  {
   "cell_type": "markdown",
   "id": "03985a4b-3d61-4d7b-9cc7-6b2c1d636047",
   "metadata": {},
   "source": [
    "# length of salaries list"
   ]
  },
  {
   "cell_type": "code",
   "execution_count": 3,
   "id": "ba0adc06-7a5c-49b1-8719-3f002053fd94",
   "metadata": {},
   "outputs": [
    {
     "name": "stdout",
     "output_type": "stream",
     "text": [
      "7\n"
     ]
    }
   ],
   "source": [
    "print(len(salaries));"
   ]
  },
  {
   "cell_type": "markdown",
   "id": "7c809219-f9be-4f96-9f25-c4310d06d495",
   "metadata": {},
   "source": [
    "# Retrieve the third salary in the list"
   ]
  },
  {
   "cell_type": "code",
   "execution_count": 4,
   "id": "c5d8b5e7-48ab-48a3-b85e-2127447d72e7",
   "metadata": {},
   "outputs": [
    {
     "data": {
      "text/plain": [
       "'50k'"
      ]
     },
     "execution_count": 4,
     "metadata": {},
     "output_type": "execute_result"
    }
   ],
   "source": [
    "salaries[2]"
   ]
  },
  {
   "cell_type": "markdown",
   "id": "a746f1b1-0234-42f9-be25-0dfcaf6c732f",
   "metadata": {},
   "source": [
    "# 3. Extract the last salary from the list by using a negative index."
   ]
  },
  {
   "cell_type": "code",
   "execution_count": 5,
   "id": "494fbf67-a9cf-4891-adcc-bffd73677f02",
   "metadata": {},
   "outputs": [
    {
     "data": {
      "text/plain": [
       "['20k', '40k', '50k', '60k', '35k', '89k', '40k']"
      ]
     },
     "execution_count": 5,
     "metadata": {},
     "output_type": "execute_result"
    }
   ],
   "source": [
    "salaries"
   ]
  },
  {
   "cell_type": "code",
   "execution_count": 6,
   "id": "3360e501-7084-4099-8834-401a8a296543",
   "metadata": {},
   "outputs": [
    {
     "data": {
      "text/plain": [
       "'40k'"
      ]
     },
     "execution_count": 6,
     "metadata": {},
     "output_type": "execute_result"
    }
   ],
   "source": [
    "salaries[-1]"
   ]
  },
  {
   "cell_type": "markdown",
   "id": "a099c719-8e49-4dd2-b25e-41f15392a213",
   "metadata": {},
   "source": [
    "## 4. Slice the salaries list to get only the middle three salaries."
   ]
  },
  {
   "cell_type": "code",
   "execution_count": 7,
   "id": "5568214b-7c2f-412a-aa37-56d864978c40",
   "metadata": {},
   "outputs": [
    {
     "data": {
      "text/plain": [
       "['20k', '40k', '50k', '60k', '35k', '89k', '40k']"
      ]
     },
     "execution_count": 7,
     "metadata": {},
     "output_type": "execute_result"
    }
   ],
   "source": [
    "salaries"
   ]
  },
  {
   "cell_type": "code",
   "execution_count": 8,
   "id": "6da6af76-93fd-4c5c-9a70-98a7f9930335",
   "metadata": {},
   "outputs": [
    {
     "data": {
      "text/plain": [
       "['50k', '60k', '35k']"
      ]
     },
     "execution_count": 8,
     "metadata": {},
     "output_type": "execute_result"
    }
   ],
   "source": [
    "salaries[2:5]"
   ]
  },
  {
   "cell_type": "markdown",
   "id": "5f8d6861-2c0a-4d51-b332-e69ecec4dad5",
   "metadata": {},
   "source": [
    "# 5. Add a new salary to the list, ‘100k’ by using append() method."
   ]
  },
  {
   "cell_type": "code",
   "execution_count": 9,
   "id": "96d54e50-2e63-44ca-a1b9-a9cbef933e1b",
   "metadata": {},
   "outputs": [
    {
     "data": {
      "text/plain": [
       "['20k', '40k', '50k', '60k', '35k', '89k', '40k']"
      ]
     },
     "execution_count": 9,
     "metadata": {},
     "output_type": "execute_result"
    }
   ],
   "source": [
    "salaries"
   ]
  },
  {
   "cell_type": "code",
   "execution_count": 10,
   "id": "c0bbbc97-19c8-4b5d-9054-db7f615a8eba",
   "metadata": {},
   "outputs": [],
   "source": [
    "salaries = salaries.append('100k')"
   ]
  },
  {
   "cell_type": "code",
   "execution_count": 11,
   "id": "8b68b232-d4e6-4e9a-b726-fb7a08153310",
   "metadata": {},
   "outputs": [],
   "source": [
    "salaries"
   ]
  },
  {
   "cell_type": "markdown",
   "id": "e216f427-7968-42df-b018-1ece88cb8d48",
   "metadata": {},
   "source": [
    "# 5. Add a new salary to the list, ‘120k’ without method."
   ]
  },
  {
   "cell_type": "code",
   "execution_count": 4,
   "id": "2f58c7ad-7ccc-4af5-adc9-84d3621da901",
   "metadata": {},
   "outputs": [],
   "source": [
    "salaries = ['20k', '40k', '50k', '60k', '35k', '89k', '40k']"
   ]
  },
  {
   "cell_type": "code",
   "execution_count": 9,
   "id": "58aae8d7-cb52-48e4-92b2-d7d19e369a95",
   "metadata": {},
   "outputs": [],
   "source": [
    "salaries = salaries + ['120k']"
   ]
  },
  {
   "cell_type": "code",
   "execution_count": 10,
   "id": "20ccf600-1763-479b-8129-815ce7437704",
   "metadata": {},
   "outputs": [
    {
     "data": {
      "text/plain": [
       "['20k', '40k', '50k', '60k', '35k', '89k', '40k', '120k']"
      ]
     },
     "execution_count": 10,
     "metadata": {},
     "output_type": "execute_result"
    }
   ],
   "source": [
    "salaries"
   ]
  },
  {
   "cell_type": "markdown",
   "id": "50639548-93a7-4672-8149-0b663267723e",
   "metadata": {},
   "source": [
    "# 6. Replace the third salary in the list with '55k' and print the updated list."
   ]
  },
  {
   "cell_type": "code",
   "execution_count": 11,
   "id": "7e436d89-b21c-4ff4-ab40-809733bd9d93",
   "metadata": {},
   "outputs": [
    {
     "data": {
      "text/plain": [
       "['20k', '40k', '50k', '60k', '35k', '89k', '40k', '120k']"
      ]
     },
     "execution_count": 11,
     "metadata": {},
     "output_type": "execute_result"
    }
   ],
   "source": [
    "salaries"
   ]
  },
  {
   "cell_type": "code",
   "execution_count": 12,
   "id": "333050e6-0cf1-49f0-aa7a-769ca4e76aaf",
   "metadata": {},
   "outputs": [],
   "source": [
    "salaries[2] = '55k'"
   ]
  },
  {
   "cell_type": "code",
   "execution_count": 13,
   "id": "e2c1c336-85da-484c-9b16-47d2b2a1cea5",
   "metadata": {},
   "outputs": [
    {
     "data": {
      "text/plain": [
       "['20k', '40k', '55k', '60k', '35k', '89k', '40k', '120k']"
      ]
     },
     "execution_count": 13,
     "metadata": {},
     "output_type": "execute_result"
    }
   ],
   "source": [
    "salaries"
   ]
  },
  {
   "cell_type": "markdown",
   "id": "7148b41a-2252-4081-ad20-92f78ae0245d",
   "metadata": {},
   "source": [
    "# 7. Count how many times '40k' appears in the list."
   ]
  },
  {
   "cell_type": "code",
   "execution_count": 42,
   "id": "fcc34182-c57c-40c4-8656-97671a61a9b6",
   "metadata": {},
   "outputs": [],
   "source": [
    "salaries"
   ]
  },
  {
   "cell_type": "code",
   "execution_count": 14,
   "id": "70b49eee-fa34-4734-9a20-41614d84a738",
   "metadata": {},
   "outputs": [
    {
     "data": {
      "text/plain": [
       "2"
      ]
     },
     "execution_count": 14,
     "metadata": {},
     "output_type": "execute_result"
    }
   ],
   "source": [
    "salaries.count('40k')"
   ]
  },
  {
   "cell_type": "markdown",
   "id": "d11897a1-e8dd-4a25-9095-33c1169ebe11",
   "metadata": {},
   "source": [
    "# 8. Insert a new salary at the second position."
   ]
  },
  {
   "cell_type": "code",
   "execution_count": 44,
   "id": "1fa3b3a2-535a-42c8-8e3c-1069d94414de",
   "metadata": {},
   "outputs": [],
   "source": [
    "salaries"
   ]
  },
  {
   "cell_type": "code",
   "execution_count": 15,
   "id": "a502a94e-33ab-42b6-80b8-c3e0086162b9",
   "metadata": {},
   "outputs": [],
   "source": [
    "salaries.insert(1,'25k')"
   ]
  },
  {
   "cell_type": "code",
   "execution_count": 16,
   "id": "206a198e-e68f-427d-89ff-fec5ff43993f",
   "metadata": {},
   "outputs": [
    {
     "data": {
      "text/plain": [
       "['20k', '25k', '40k', '55k', '60k', '35k', '89k', '40k', '120k']"
      ]
     },
     "execution_count": 16,
     "metadata": {},
     "output_type": "execute_result"
    }
   ],
   "source": [
    "salaries"
   ]
  },
  {
   "cell_type": "markdown",
   "id": "8a8816d9-9598-44a5-9e6d-cdf5ccf6fa1b",
   "metadata": {},
   "source": [
    "# 9. Reverse the order of the salaries list with method."
   ]
  },
  {
   "cell_type": "code",
   "execution_count": 17,
   "id": "a3a2bb50-3198-4ed5-bfcc-55b83eea89f4",
   "metadata": {},
   "outputs": [],
   "source": [
    "salaries.reverse()"
   ]
  },
  {
   "cell_type": "code",
   "execution_count": 18,
   "id": "b580d3b2-e669-4509-a718-fec098730bd2",
   "metadata": {},
   "outputs": [
    {
     "data": {
      "text/plain": [
       "['120k', '40k', '89k', '35k', '60k', '55k', '40k', '25k', '20k']"
      ]
     },
     "execution_count": 18,
     "metadata": {},
     "output_type": "execute_result"
    }
   ],
   "source": [
    "salaries"
   ]
  },
  {
   "cell_type": "markdown",
   "id": "8695f694-bc55-4eb4-99a0-85837a0018a1",
   "metadata": {},
   "source": [
    "# 10. Reverse the order of the salaries list without method."
   ]
  },
  {
   "cell_type": "code",
   "execution_count": null,
   "id": "9e614903-d0f6-4c3f-9a6c-5510150a3ac9",
   "metadata": {},
   "outputs": [],
   "source": []
  }
 ],
 "metadata": {
  "kernelspec": {
   "display_name": "Python 3 (ipykernel)",
   "language": "python",
   "name": "python3"
  },
  "language_info": {
   "codemirror_mode": {
    "name": "ipython",
    "version": 3
   },
   "file_extension": ".py",
   "mimetype": "text/x-python",
   "name": "python",
   "nbconvert_exporter": "python",
   "pygments_lexer": "ipython3",
   "version": "3.12.7"
  }
 },
 "nbformat": 4,
 "nbformat_minor": 5
}
